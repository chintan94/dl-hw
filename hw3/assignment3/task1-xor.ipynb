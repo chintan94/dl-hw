{
 "cells": [
  {
   "cell_type": "markdown",
   "metadata": {},
   "source": [
    "# Task 1: XOR"
   ]
  },
  {
   "cell_type": "code",
   "execution_count": 1,
   "metadata": {},
   "outputs": [],
   "source": [
    "# Import modules\n",
    "from __future__ import print_function\n",
    "import tensorflow as tf\n",
    "import numpy as np\n",
    "from numpy.random import shuffle\n",
    "import time\n",
    "import matplotlib.pyplot as plt\n",
    "\n",
    "# Plot configurations\n",
    "% matplotlib inline\n",
    "\n",
    "# Notebook auto reloads code. (Ref: http://stackoverflow.com/questions/1907993/autoreload-of-modules-in-ipython)\n",
    "% load_ext autoreload\n",
    "% autoreload 2"
   ]
  },
  {
   "cell_type": "markdown",
   "metadata": {},
   "source": [
    "## Task 1, Part 1: Backpropagation through time (BPTT)"
   ]
  },
  {
   "cell_type": "markdown",
   "metadata": {},
   "source": [
    "**Question:** Consider a simple RNN network shown in the following figure, where _wx, wh, b1, w, b2_ are the scalar parameters of the network. The loss function is the **mean squared error (MSE)**. Given input _(x1, x2) = (1, 0)_, ground truth _(g1, g2) = (1, 1), h0 = 0, (wx, wh, b1, w, b2) = (1, 1, 1, 1, 1)_, compute _(dwx, dwh, db1, dw, db2)_, which are the gradients of loss with repect to 5 parameters _(wx, wh, b1, w, b2)_.\n",
    "\n",
    "![bptt](./img/bptt2.jpg)"
   ]
  },
  {
   "cell_type": "markdown",
   "metadata": {},
   "source": [
    "<span style=\"color:red\">TODO:</span>\n",
    "\n",
    "Answer the above question. \n",
    "\n",
    "* **[fill in here: Enter your derivations and the computational process]**\n",
    "* You can use LATEX to edit the equations, and Jupyter notebook can recognize basic LATEX syntax. Alternatively, you can edit equations in some other environment and then paste the screenshot of the equations here."
   ]
  },
  {
   "cell_type": "markdown",
   "metadata": {},
   "source": [
    "$h_{1}$=0.881,\n",
    "$h_{2}$=0.868,\n",
    "$y_{1}$=0.868,\n",
    "$y_{2}$=0.866\n",
    "\n",
    "L=$({g_{1}-y_{1}})^{2}$+$({g_{2}-y_{2}})^{2}$\n",
    "L=$({1-0.868})^{2}$+$({1-0.866})^{2}= 0.03538$\n",
    "\n",
    "$\\partial L/\\partial y= \\sum_{t=1}^{2}\\partial L_{t}/\\partial {y_{t}}$\n",
    "$\\partial L/\\partial y= \\partial L_{1}/\\partial {y_{1}} + \\partial L_{2}/\\partial {y_{2}}$\n",
    "$\\partial L/\\partial y= 2({g_{1}-y_{1}})-1+2({g_{2}-y_{2}})-1=-0.532$\n",
    "\n",
    "$\\partial L/\\partial b2$:\n",
    "\n",
    "$\\partial L/\\partial b2=\\sum_{t=1}^{2}\\partial L_{t}/\\partial {y_{t}} * \\partial y_{t}/\\partial {b2}$\n",
    "\n",
    "$\\partial L/\\partial c=\\partial L_{1}/\\partial {y_{1}} * \\partial y_{1}/\\partial {b2}+ \\partial L_{2}/\\partial {y_{2}} * \\partial y_{2}/\\partial {b2}$\n",
    "\n",
    "$\\partial y_{1}/\\partial {b2}= \\sigma{(wh*h+b2)}  * (1 - \\sigma{(wh*h + b2)})$,\n",
    "$\\partial y_{2}/\\partial {b2}= 1$\n",
    "\n",
    "$\\partial L/\\partial c= 2*0.881 + 2*0.868 = 3.498$\n",
    "\n",
    "\n",
    "$\\partial L/\\partial a$:\n",
    "\n",
    "$\\partial L/\\partial a=\\sum_{t=1}^{2}\\partial L_{t}/\\partial {y_{t}} * \\partial y_{t}/\\partial {a}$\n",
    "\n",
    "$\\partial L/\\partial a=\\partial L_{1}/\\partial {y_{1}} * \\partial y_{1}/\\partial {a}+ \\partial L_{2}/\\partial {y_{2}} * \\partial y_{2}/\\partial {a}$\n",
    "\n",
    "$\\partial y_{1}/\\partial {a}= h$,\n",
    "$\\partial y_{2}/\\partial {a}= h$\n",
    "\n",
    "$\\partial L/\\partial a= 2*0.881*0.881 + 2*0.868*0.868 = 3.058$\n",
    "\n",
    "\n",
    "\n",
    "$\\partial L/\\partial {w_{i}}=\\sum_{t=1}^{2}\\sum_{j=1}^{t}\\partial L_{t}/\\partial {y_{t}} * \\partial y_{t}/\\partial {h_{t}}\\partial h_{t}/\\partial {h_{j}}\\partial h_{j}/\\partial {w_{i}}$\n",
    "\n",
    "\n",
    "$\\partial L/\\partial {w_{i}}=\\partial L_{1}/\\partial {y_{1}} * \\partial y_{1}/\\partial {h_{1}}\\partial h_{1}/\\partial {h_{1}}\\partial h_{1}/\\partial {w_{i}} + \\partial L_{2}/\\partial {y_{2}} * \\partial y_{2}/\\partial {h_{2}}\\partial h_{2}/\\partial {h_{1}}\\partial h_{1}/\\partial {w_{i}} + \\partial L_{2}/\\partial {y_{2}} * \\partial y_{2}/\\partial {h_{2}}\\partial h_{2}/\\partial {h_{2}}\\partial h_{2}/\\partial {w_{i}}$\n",
    "\n",
    "$\\partial L/\\partial {w_{i}}= (-2*2({g_{1}-y_{1}})a*h_{1}(1-h_{1})x_{0}) + (-2*2({g_{2}-y_{2}})*a(h_{2}(1-h_{2})*w_{h})(h_{1}(1-h_{1})*x_{0}) + (-2*2({g_{2}-y_{2}})*a*h_{2}(1-h_{2})*x_{1})$\n",
    "\n",
    "$\\partial L/\\partial {w_{i}}=(-2*-0.881*0.119*0.881*1)+(-2*-0.868*1*0.132*0.868*.119*0.881)+0 =0.2055$\n",
    "\n",
    "\n",
    "$\\partial L/\\partial {w_{h}}=\\sum_{t=1}^{2}\\sum_{j=1}^{t}\\partial L_{t}/\\partial {y_{t}} * \\partial y_{t}/\\partial {h_{t}}\\partial h_{t}/\\partial {h_{j}}\\partial h_{j}/\\partial {w_{h}}$\n",
    "\n",
    "\n",
    "$\\partial L/\\partial {w_{h}}=\\partial L_{1}/\\partial {y_{1}} * \\partial y_{1}/\\partial {h_{1}}\\partial h_{1}/\\partial {h_{1}}\\partial h_{1}/\\partial {w_{h}} + \\partial L_{2}/\\partial {y_{2}} * \\partial y_{2}/\\partial {h_{2}}\\partial h_{2}/\\partial {h_{1}}\\partial h_{1}/\\partial {w_{h}} + \\partial L_{2}/\\partial {y_{2}} * \\partial y_{2}/\\partial {h_{2}}\\partial h_{2}/\\partial {h_{2}}\\partial h_{2}/\\partial {w_{h}}$\n",
    "\n",
    "$\\partial L/\\partial {w_{h}}= (-2*2({g_{1}-y_{1}})a*h_{1}(1-h_{1})h_{0}) + (-2*2({g_{2}-y_{2}})*a(h_{2}(1-h_{2})*w_{h})(h_{1}(1-h_{1})*h_{0}) + (-2*2({g_{2}-y_{2}})*a*h_{2}(1-h_{2})*h_{1})$\n",
    "\n",
    "$\\partial L/\\partial {w_{h}}=(-2*-0.881*0.119*0.881*0)+(-2*-0.868*1*0.132*0.868*.119*0.881*0)+(-2*-0.868*1*0.132*0.868*0.881) =0.1752$\n",
    "\n",
    "$\\partial L/\\partial b=\\sum_{t=1}^{2}\\sum_{j=1}^{t}\\partial L_{t}/\\partial {y_{t}} * \\partial y_{t}/\\partial {h_{t}}\\partial h_{t}/\\partial {h_{j}}\\partial h_{j}/\\partial {w_{h}}$\n",
    "\n",
    "\n",
    "$\\partial L/\\partial b=\\partial L_{1}/\\partial {y_{1}} * \\partial y_{1}/\\partial {h_{1}}\\partial h_{1}/\\partial {h_{1}}\\partial h_{1}/\\partial b + \\partial L_{2}/\\partial {y_{2}} * \\partial y_{2}/\\partial {h_{2}}\\partial h_{2}/\\partial {h_{1}}\\partial h_{1}/\\partial b + \\partial L_{2}/\\partial {y_{2}} * \\partial y_{2}/\\partial {h_{2}}\\partial h_{2}/\\partial {h_{2}}\\partial h_{2}/\\partial b$\n",
    "\n",
    "$\\partial L/\\partial b= (-2*2({g_{1}-y_{1}})a*h_{1}(1-h_{1})1) + (-2*2({g_{2}-y_{2}})*a(h_{2}(1-h_{2})*w_{h})(h_{1}(1-h_{1})*1) + (-2*2({g_{2}-y_{2}})*a*h_{2}(1-h_{2})*1)$\n",
    "\n",
    "$\\partial L/\\partial b=(-2*-0.881*0.119*0.881*1)+(-2*-0.868*1*0.132*0.868*.119*0.881*1)+(-2*-0.868*1*0.132*0.868*1) = 0.1847+0.0208+0.1989= 0.4044$\n",
    "\n",
    "\n",
    "$\\partial L/\\partial b=0.4044$,\n",
    "$\\partial L/\\partial {w_{h}}=0.1752$,\n",
    "$\\partial L/\\partial {w_{i}}=0.2055$,\n",
    "$\\partial L/\\partial a= 3.058$,\n",
    "$\\partial L/\\partial c=3.498$,"
   ]
  },
  {
   "cell_type": "markdown",
   "metadata": {},
   "source": [
    "## Task 1, Part 2: Use tensorflow modules to create XOR network\n",
    "\n",
    "In this part, you need to build and train an XOR network that can learn the XOR function. It is a very simple implementation of RNN and will give you an idea how RNN is built and how to train it."
   ]
  },
  {
   "cell_type": "markdown",
   "metadata": {},
   "source": [
    "### XOR network\n",
    "\n",
    "XOR network can learn the XOR $\\oplus$ function\n",
    "\n",
    "As shown in the figure below, and for instance, if input $(x0, x1, x2)$=(1,0,0), then output $(y1, y2, y3)$=(1,1,1). That is, $y_n = x_0\\oplus x_1 \\oplus ... \\oplus x_{n-1}$\n",
    "\n",
    "![xor_net](./img/xor.png)"
   ]
  },
  {
   "cell_type": "markdown",
   "metadata": {},
   "source": [
    "### Create data set\n",
    "This function provides you the way to generate the data which is required for the training process. You should utilize it when building your training function for the GRU. Please read the source code for more information."
   ]
  },
  {
   "cell_type": "code",
   "execution_count": 2,
   "metadata": {},
   "outputs": [],
   "source": [
    "from ecbm4040.xor.utils import create_dataset"
   ]
  },
  {
   "cell_type": "markdown",
   "metadata": {},
   "source": [
    "### Build a network using a Tensorlow GRUCell\n",
    "This section shows an example how to build a RNN network using an GRU cell. GRU cell is an inbuilt class in tensorflow which implements the real behavior of the GRU neuron. \n",
    "\n",
    "Reference: \n",
    "1. [TensorFlow GRU cell](https://www.tensorflow.org/versions/r1.8/api_docs/python/tf/contrib/rnn/GRUCell)\n",
    "2. [Understanding GRU networks](https://towardsdatascience.com/understanding-gru-networks-2ef37df6c9be)"
   ]
  },
  {
   "cell_type": "code",
   "execution_count": 58,
   "metadata": {},
   "outputs": [],
   "source": [
    "from tensorflow.contrib.rnn import GRUCell"
   ]
  },
  {
   "cell_type": "code",
   "execution_count": 4,
   "metadata": {},
   "outputs": [],
   "source": [
    "tf.reset_default_graph()\n",
    "\n",
    "# Input shape: (num_samples, seq_length, input_dimension)\n",
    "# Output shape: (num_samples, output_ground_truth), and output_ground_truth is 0/1.\n",
    "input_data = tf.placeholder(tf.float32, shape=[None,None,1])\n",
    "output_data = tf.placeholder(tf.int64, shape=[None,None])\n",
    "\n",
    "# define GRU cell\n",
    "num_units = 64\n",
    "cell = GRUCell(num_units)\n",
    "\n",
    "# create GRU network: you can also choose other modules provided by tensorflow, like static_rnn etc.\n",
    "hidden, _ = tf.nn.dynamic_rnn(cell, input_data, dtype=tf.float32)\n",
    "\n",
    "# generate output from the hidden information\n",
    "output_shape = 2\n",
    "out = tf.layers.dense(hidden, output_shape)\n",
    "pred = tf.argmax(out, axis=2)\n",
    "\n",
    "# loss function\n",
    "loss = tf.reduce_mean(tf.nn.sparse_softmax_cross_entropy_with_logits(labels=output_data,logits=out))\n",
    "\n",
    "# optimization\n",
    "optimizer = tf.train.AdamOptimizer(learning_rate=0.1).minimize(loss)\n",
    "\n",
    "# accuracy\n",
    "correct_num = tf.equal(output_data,pred)\n",
    "accuracy = tf.reduce_mean(tf.cast(correct_num,tf.float32))"
   ]
  },
  {
   "cell_type": "markdown",
   "metadata": {},
   "source": [
    "### Training \n",
    "\n",
    "<span style='color:red'>TODO:</span> \n",
    "1. Build your training funciton for RNN; \n",
    "2. Plot the cost during the traning"
   ]
  },
  {
   "cell_type": "code",
   "execution_count": 5,
   "metadata": {},
   "outputs": [
    {
     "name": "stdout",
     "output_type": "stream",
     "text": [
      "epoch 1: train cost = 0.6383780241012573\n",
      "epoch 2: train cost = 0.0004547766293399036\n",
      "epoch 3: train cost = 0.00011372655717423186\n",
      "epoch 4: train cost = 7.931057189125568e-05\n",
      "epoch 5: train cost = 6.237043999135494e-05\n",
      "epoch 6: train cost = 5.115982276038267e-05\n",
      "epoch 7: train cost = 4.31463704444468e-05\n",
      "epoch 8: train cost = 3.712682882905938e-05\n",
      "epoch 9: train cost = 3.2448235288029537e-05\n",
      "epoch 10: train cost = 2.8722914066747762e-05\n",
      "epoch 11: train cost = 2.568595482443925e-05\n",
      "epoch 12: train cost = 2.314879202458542e-05\n",
      "epoch 13: train cost = 2.1025094611104578e-05\n",
      "epoch 14: train cost = 1.922006777022034e-05\n",
      "epoch 15: train cost = 1.765500201145187e-05\n",
      "epoch 16: train cost = 1.628799145692028e-05\n",
      "epoch 17: train cost = 1.5088196050783154e-05\n",
      "epoch 18: train cost = 1.4030638340045698e-05\n",
      "epoch 19: train cost = 1.3079757991363294e-05\n",
      "epoch 20: train cost = 1.2236999282322358e-05\n"
     ]
    },
    {
     "data": {
      "image/png": "[encoded data removed]",
      "text/plain": [
       "<Figure size 432x288 with 1 Axes>"
      ]
     },
     "metadata": {},
     "output_type": "display_data"
    },
    {
     "data": {
      "image/png": "[encoded data removed]",
      "text/plain": [
       "<Figure size 432x288 with 1 Axes>"
      ]
     },
     "metadata": {},
     "output_type": "display_data"
    }
   ],
   "source": [
    "X_train,y_train=create_dataset(10000)\n",
    "init = tf.global_variables_initializer()\n",
    "\n",
    "\n",
    "batch_size_m = 300\n",
    "num_batch_m = X_train.shape[0]//batch_size_m\n",
    "epochs=20\n",
    "train_cost_li=[]\n",
    "train_cost_li_ep=[]\n",
    "with tf.Session() as sess:\n",
    "    sess.run(init)\n",
    "    for e in range(epochs):\n",
    "        for i in range(num_batch_m):\n",
    "            X_batch_m, y_batch_m = X_train[i*batch_size_m:(i+1)*batch_size_m,:,:], y_train[i*batch_size_m:(i+1)*batch_size_m,:]\n",
    "            _,train_cost=sess.run([optimizer,loss], feed_dict={input_data: X_batch_m, output_data: y_batch_m})\n",
    "            train_cost_li.append(train_cost)\n",
    "        train_cost_li_ep.append(train_cost)\n",
    "        print('epoch {}: train cost = {}'.format(e+1, train_cost))\n",
    "    \n",
    "plt.plot(train_cost_li, label=\"train accuracy for every iteration\")\n",
    "plt.xlabel(\"Total iterations\")\n",
    "plt.ylabel(\"Loss\")\n",
    "plt.legend()\n",
    "plt.show()  \n",
    "\n",
    "plt.plot(train_cost_li_ep, label=\"train accuracy for every epoch\")\n",
    "plt.xlabel(\"Total epochs\")\n",
    "plt.ylabel(\"Loss\")\n",
    "plt.legend()\n",
    "plt.show()"
   ]
  },
  {
   "cell_type": "markdown",
   "metadata": {
    "collapsed": true
   },
   "source": [
    "## Task 1, Part 3 :  Build your own GRUCell\n",
    "In this part, you need to build your own GRU cell to achieve the GRU functionality. \n",
    "\n",
    "<span style=\"color:red\">TODO:</span> \n",
    "1. Finish class **MyGRUCell** in ecbm4040/xor/rnn.py;\n",
    "2. Write the training function for your RNN;\n",
    "3. Plot the cost during training."
   ]
  },
  {
   "cell_type": "code",
   "execution_count": 65,
   "metadata": {},
   "outputs": [],
   "source": [
    "from ecbm4040.xor.rnn import MyGRUCell"
   ]
  },
  {
   "cell_type": "code",
   "execution_count": 68,
   "metadata": {},
   "outputs": [],
   "source": [
    "# recreate xor netowrk with your own GRU cell\n",
    "tf.reset_default_graph()\n",
    "\n",
    "#Input shape: (num_samples,seq_length,input_dimension)\n",
    "#Output shape: (num_samples, output_ground_truth), and output_ground_truth is 0/1. \n",
    "input_data = tf.placeholder(tf.float32,shape=[None,None,1])\n",
    "output_data = tf.placeholder(tf.int64,shape=[None,None])\n",
    "\n",
    "# recreate xor netowrk with your own GRU cell\n",
    "num_units = 64\n",
    "cell = GRUCell(num_units)\n",
    "\n",
    "# create GRU network: you can also choose other modules provided by tensorflow, like static_rnn etc.\n",
    "hidden, _ = tf.nn.dynamic_rnn(cell,input_data,dtype=tf.float32)\n",
    "\n",
    "# generate output from the hidden information\n",
    "output_shape = 2\n",
    "out = tf.layers.dense(hidden, output_shape)\n",
    "pred = tf.argmax(out,axis=2)\n",
    "\n",
    "# loss function\n",
    "loss = tf.reduce_mean(tf.nn.sparse_softmax_cross_entropy_with_logits(labels=output_data,logits=out))\n",
    "# optimization\n",
    "optimizer = tf.train.AdamOptimizer(learning_rate=0.1).minimize(loss)\n",
    "# accuracy\n",
    "correct = tf.equal(output_data,pred)\n",
    "accuracy = tf.reduce_mean(tf.cast(correct,tf.float32))"
   ]
  },
  {
   "cell_type": "markdown",
   "metadata": {},
   "source": [
    "### Training"
   ]
  },
  {
   "cell_type": "code",
   "execution_count": 69,
   "metadata": {},
   "outputs": [
    {
     "name": "stdout",
     "output_type": "stream",
     "text": [
      "epoch 1: train cost = 0.5922513604164124\n",
      "epoch 2: train cost = 0.000550377881154418\n",
      "epoch 3: train cost = 0.00018246794934384525\n",
      "epoch 4: train cost = 0.00014318310422822833\n",
      "epoch 5: train cost = 0.00012097864237148315\n",
      "epoch 6: train cost = 0.00010364840272814035\n",
      "epoch 7: train cost = 8.976773824542761e-05\n",
      "epoch 8: train cost = 7.849666872061789e-05\n",
      "epoch 9: train cost = 6.924216722836718e-05\n",
      "epoch 10: train cost = 6.154426955617964e-05\n",
      "epoch 11: train cost = 5.509005131898448e-05\n",
      "epoch 12: train cost = 4.9589194532018155e-05\n",
      "epoch 13: train cost = 4.489168350119144e-05\n",
      "epoch 14: train cost = 4.0817652916302904e-05\n",
      "epoch 15: train cost = 3.7277528463164344e-05\n",
      "epoch 16: train cost = 3.4187014534836635e-05\n",
      "epoch 17: train cost = 3.1448380468646064e-05\n",
      "epoch 18: train cost = 2.9034676117589697e-05\n",
      "epoch 19: train cost = 2.6883184546022676e-05\n",
      "epoch 20: train cost = 2.495034823368769e-05\n"
     ]
    },
    {
     "data": {
      "image/png": "[encoded data removed]",
      "text/plain": [
       "<Figure size 432x288 with 1 Axes>"
      ]
     },
     "metadata": {},
     "output_type": "display_data"
    },
    {
     "data": {
      "image/png": "[encoded data removed]",
      "text/plain": [
       "<Figure size 432x288 with 1 Axes>"
      ]
     },
     "metadata": {},
     "output_type": "display_data"
    }
   ],
   "source": [
    "X_train,y_train=create_dataset(10000)\n",
    "init = tf.global_variables_initializer()\n",
    "\n",
    "\n",
    "batch_size_m = 300\n",
    "num_batch_m = X_train.shape[0]//batch_size_m\n",
    "epochs=20\n",
    "train_cost_li=[]\n",
    "train_cost_li_ep=[]\n",
    "with tf.Session() as sess:\n",
    "    sess.run(init)\n",
    "    for e in range(epochs):\n",
    "        for i in range(num_batch_m):\n",
    "            X_batch_m, y_batch_m = X_train[i*batch_size_m:(i+1)*batch_size_m,:,:], y_train[i*batch_size_m:(i+1)*batch_size_m,:]\n",
    "            _,train_cost=sess.run([optimizer,loss], feed_dict={input_data: X_batch_m, output_data: y_batch_m})\n",
    "            train_cost_li.append(train_cost)\n",
    "        train_cost_li_ep.append(train_cost)\n",
    "        print('epoch {}: train cost = {}'.format(e+1, train_cost))\n",
    "    \n",
    "plt.plot(train_cost_li, label=\"train accuracy for every iteration\")\n",
    "plt.xlabel(\"Total iterations\")\n",
    "plt.ylabel(\"Loss\")\n",
    "plt.legend()\n",
    "plt.show()  \n",
    "\n",
    "plt.plot(train_cost_li_ep, label=\"train accuracy for every epoch\")\n",
    "plt.xlabel(\"Total epochs\")\n",
    "plt.ylabel(\"Loss\")\n",
    "plt.legend()\n",
    "plt.show()"
   ]
  },
  {
   "cell_type": "code",
   "execution_count": null,
   "metadata": {},
   "outputs": [],
   "source": []
  }
 ],
 "metadata": {
  "kernelspec": {
   "display_name": "Python 3",
   "language": "python",
   "name": "python3"
  },
  "language_info": {
   "codemirror_mode": {
    "name": "ipython",
    "version": 3
   },
   "file_extension": ".py",
   "mimetype": "text/x-python",
   "name": "python",
   "nbconvert_exporter": "python",
   "pygments_lexer": "ipython3",
   "version": "3.6.5"
  }
 },
 "nbformat": 4,
 "nbformat_minor": 2
}
