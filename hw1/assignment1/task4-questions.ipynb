{
 "cells": [
  {
   "cell_type": "markdown",
   "metadata": {},
   "source": [
    "# ECBM E4040 Assignment 1, Task 4: Questions\n",
    "1) Cross entropy is a metric that measures the \"distance\" between two distributions, why can it be used in calculating the loss of softmax classifier? \n",
    "\n",
    "   Your answer: **[fill in here]**\n",
    "\n",
    "\n",
    "2) How does binary SVM classifier deal with multi-class classification problem? In general, there are two ways.Please describe both training process and inference process of different methods.\n",
    "\n",
    "   Your answer: **[fill in here]**\n",
    "   \n",
    "\n",
    "3) What are the pros and cons of SVM compared with MLP?\n",
    "\n",
    "   Your answer: **[fill in here]**\n",
    "   \n",
    "   \n",
    "\n",
    "4) Why is the ReLU activation function used the most often in neural networks for computer vision?\n",
    "\n",
    "   Your answer: **[fill in here]**\n",
    "   \n",
    "   \n",
    "5) Describe your best model in the implementation of the two-layer neural network. Describe your starting point, how you tuned  hyperparameters, which stategies you used to improve the network, show the results of intermediate and the final steps.\n",
    "\n",
    "   Your answer: **[fill in here]**\n",
    "   \n",
    "\n",
    "6) **Cross validation** is a technique used to prove the generalization ability of a model and can help you find a robust set of hyperparameters. Please describe the implementation details of **k-fold cross validation**.\n",
    "\n",
    "   Your answer: **[fill in here]**\n",
    "\n"
   ]
  }
 ],
 "metadata": {
  "kernelspec": {
   "display_name": "Python 3",
   "language": "python",
   "name": "python3"
  },
  "language_info": {
   "codemirror_mode": {
    "name": "ipython",
    "version": 3
   },
   "file_extension": ".py",
   "mimetype": "text/x-python",
   "name": "python",
   "nbconvert_exporter": "python",
   "pygments_lexer": "ipython3",
   "version": "3.6.5"
  }
 },
 "nbformat": 4,
 "nbformat_minor": 2
}
